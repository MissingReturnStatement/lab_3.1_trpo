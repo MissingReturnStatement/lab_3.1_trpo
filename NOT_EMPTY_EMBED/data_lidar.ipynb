{
 "cells": [
  {
   "cell_type": "code",
   "execution_count": 1,
   "id": "9e86d674",
   "metadata": {},
   "outputs": [
    {
     "ename": "NameError",
     "evalue": "name 'pylidlight' is not defined",
     "output_type": "error",
     "traceback": [
      "\u001b[1;31m---------------------------------------------------------------------------\u001b[0m",
      "\u001b[1;31mNameError\u001b[0m                                 Traceback (most recent call last)",
      "Cell \u001b[1;32mIn[1], line 2\u001b[0m\n\u001b[0;32m      1\u001b[0m \u001b[38;5;66;03m# Подключаемся к базе\u001b[39;00m\n\u001b[1;32m----> 2\u001b[0m db \u001b[38;5;241m=\u001b[39m pylidlight\u001b[38;5;241m.\u001b[39mDB(\u001b[38;5;124m\"\u001b[39m\u001b[38;5;124mdata.db\u001b[39m\u001b[38;5;124m\"\u001b[39m)\n\u001b[0;32m      3\u001b[0m \u001b[38;5;66;03m# Загружаем данные о месте (оно одно, пока что)\u001b[39;00m\n\u001b[0;32m      4\u001b[0m place \u001b[38;5;241m=\u001b[39m db\u001b[38;5;241m.\u001b[39mget_place(\u001b[38;5;124m'\u001b[39m\u001b[38;5;124mLidar(Tomsk)\u001b[39m\u001b[38;5;124m'\u001b[39m)\n",
      "\u001b[1;31mNameError\u001b[0m: name 'pylidlight' is not defined"
     ]
    }
   ],
   "source": [
    "# Подключаемся к базе\n",
    "db = pylidlight.DB(\"data.db\")\n",
    "# Загружаем данные о месте (оно одно, пока что)\n",
    "place = db.get_place('Lidar(Tomsk)')\n",
    "\n",
    "# Загружем список доступных данных\n",
    "data = db.get_data(place)\n",
    "# Берем любой порядковый номер в данных\n",
    "N = 110\n"
   ]
  },
  {
   "cell_type": "code",
   "execution_count": null,
   "id": "9d6fcb56",
   "metadata": {},
   "outputs": [],
   "source": []
  }
 ],
 "metadata": {
  "kernelspec": {
   "display_name": "Python 3 (ipykernel)",
   "language": "python",
   "name": "python3"
  },
  "language_info": {
   "codemirror_mode": {
    "name": "ipython",
    "version": 3
   },
   "file_extension": ".py",
   "mimetype": "text/x-python",
   "name": "python",
   "nbconvert_exporter": "python",
   "pygments_lexer": "ipython3",
   "version": "3.11.5"
  }
 },
 "nbformat": 4,
 "nbformat_minor": 5
}
