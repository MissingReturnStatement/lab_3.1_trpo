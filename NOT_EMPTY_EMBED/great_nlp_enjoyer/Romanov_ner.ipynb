{
 "cells": [
  {
   "cell_type": "code",
   "execution_count": 52,
   "id": "c9a8993f",
   "metadata": {},
   "outputs": [],
   "source": [
    "import datasets\n",
    "import torch.nn as nn\n",
    "import torch\n",
    "import torch.optim as optim\n",
    "import numpy as np\n",
    "import torch.nn.functional as F\n",
    "import pickle\n",
    "import random\n",
    "import matplotlib.pyplot as plt\n",
    "import numpy as np\n",
    "\n",
    "from transformers import AutoModel, AutoTokenizer\n",
    "from torch import Tensor\n",
    "from torch.autograd import Variable\n",
    "from torch.utils.data import DataLoader, dataset\n",
    "from torch.utils.data import Dataset as TorchDataset\n",
    "from torch.nn import TripletMarginWithDistanceLoss\n",
    "from torch.optim import AdamW\n",
    "from tqdm import trange\n",
    "from sklearn.metrics import f1_score\n",
    "from tqdm.auto import tqdm"
   ]
  },
  {
   "cell_type": "code",
   "execution_count": null,
   "id": "af52e657",
   "metadata": {},
   "outputs": [],
   "source": [
    "#from src.model import CustomModel сделать классы отдельными файлами"
   ]
  },
  {
   "cell_type": "code",
   "execution_count": 2,
   "id": "bc3eef3d",
   "metadata": {},
   "outputs": [
    {
     "data": {
      "text/plain": [
       "<torch.autograd.anomaly_mode.set_detect_anomaly at 0x70bf88550450>"
      ]
     },
     "execution_count": 2,
     "metadata": {},
     "output_type": "execute_result"
    }
   ],
   "source": [
    "torch.autograd.set_detect_anomaly(True)"
   ]
  },
  {
   "cell_type": "code",
   "execution_count": 34,
   "id": "9a4eaa7f",
   "metadata": {},
   "outputs": [],
   "source": [
    "class CustomModel(nn.Module):\n",
    "    def __init__(self, model_name: str, num_entities: int, device: torch.device = None):\n",
    "        \"\"\"\n",
    "        Инициализация модели \n",
    "        \n",
    "        Аргументы:\n",
    "        - model_name (str): Название предобученной модели.\n",
    "        - num_entities (int): Количество сущностей для классификатора NER.\n",
    "        - device (torch.device, optional): Устройство для выполнения вычислений (CPU или GPU). Если не указано, используется CUDA, если доступно.\n",
    "        \"\"\"\n",
    "        super(CustomModel, self).__init__()\n",
    "        self.device = device if device else torch.device('cuda:0' if torch.cuda.is_available() else 'cpu')\n",
    "        self.tokenizer = AutoTokenizer.from_pretrained(model_name)\n",
    "        self.model = AutoModel.from_pretrained(model_name)\n",
    "        self.ner_classifier = nn.Linear(384, num_entities, device=self.device)\n",
    "        self.ner_classifier.to(self.device)\n",
    "        self.model.to(self.device)\n",
    "\n",
    "    def forward(self, data, mean_pooling: bool = True, tokenized: bool = True) -> Tensor:\n",
    "        \"\"\"\n",
    "        Прямой проход (forward pass) через модель.\n",
    "        \n",
    "        Аргументы:\n",
    "        - data (dict или list): Входные данные. Может быть в виде словаря с input_ids и attention_mask или в виде списка строк (текстов).\n",
    "        - mean_pooling (bool, optional): Флаг для использования среднего пуллинга. По умолчанию True.\n",
    "        - tokenized (bool, optional): Флаг, указывающий, токенизированны ли данные. По умолчанию True.\n",
    "\n",
    "        Возвращает:\n",
    "        - Tensor: Эмбеддинги токенов после (возможно) среднего пуллинга.\n",
    "        \"\"\"\n",
    "        if not tokenized:\n",
    "            data = self.tokenizer(data, padding=True, truncation=True, return_tensors='pt')\n",
    "            data['input_ids'] = data['input_ids'].to(self.device)\n",
    "            data['attention_mask'] = data['attention_mask'].to(self.device)\n",
    "\n",
    "        outputs = self.model(data['input_ids'], data['attention_mask'])\n",
    "        token_embeddings = outputs.last_hidden_state.to(self.device)\n",
    "        \n",
    "        if mean_pooling:\n",
    "            token_embeddings = self.average_pool(token_embeddings, data['attention_mask'])\n",
    "        \n",
    "        return token_embeddings\n",
    "\n",
    "    def average_pool(self, last_hidden_states: Tensor, attention_mask: Tensor) -> Tensor:\n",
    "        \"\"\"\n",
    "        Средний пуллинг эмбеддингов токенов для получения одного эмбеддинга текста.\n",
    "        \n",
    "        Аргументы:\n",
    "        - last_hidden_states (Tensor): Эмбеддинги токенов от модели.\n",
    "        - attention_mask (Tensor): Маска внимания для токенов.\n",
    "\n",
    "        Возвращает:\n",
    "        - Tensor: Эмбеддинг текста после среднего пуллинга.\n",
    "        \"\"\"\n",
    "        last_hidden = last_hidden_states.masked_fill(~attention_mask[..., None].bool(), 0.0)\n",
    "        return last_hidden.sum(dim=1) / attention_mask.sum(dim=1)[..., None]"
   ]
  },
  {
   "cell_type": "code",
   "execution_count": 3,
   "id": "56144c52",
   "metadata": {},
   "outputs": [],
   "source": [
    "# Класс для датасета Similarity\n",
    "class SimilarityDataset(TorchDataset):\n",
    "    def __init__(self,anchors,positives,negatives):\n",
    "        self.anchors = anchors\n",
    "        self.positives = positives\n",
    "        self.negatives = negatives\n",
    "\n",
    "    def __len__(self):\n",
    "        return len(self.anchors)\n",
    "\n",
    "    def __getitem__(self,idx):\n",
    "        return self.anchors[idx], self.positives[idx], self.negatives[idx]"
   ]
  },
  {
   "cell_type": "code",
   "execution_count": 4,
   "id": "d6f84cae",
   "metadata": {},
   "outputs": [],
   "source": [
    "# Класс для датасета NER\n",
    "class NerDataset(TorchDataset):\n",
    "    def __init__(self, input_ids, attention, labels):\n",
    "        self.input_ids = input_ids\n",
    "        self.labels = labels\n",
    "        self.attention = attention\n",
    "\n",
    "    def __len__(self):\n",
    "        return len(self.input_ids)\n",
    "\n",
    "    def __getitem__(self,idx):\n",
    "        return self.input_ids[idx], self.attention[idx], self.labels[idx]"
   ]
  },
  {
   "cell_type": "code",
   "execution_count": 5,
   "id": "9e9c0e89",
   "metadata": {},
   "outputs": [],
   "source": [
    "def translate_labels(tokens, labels, tokenizer):\n",
    "    \"\"\"\n",
    "    Функция для преобразования лейблов в соответствии с токенизированным текстом.\n",
    "\n",
    "    Аргументы:\n",
    "    - tokens (list of str): Список исходных токенов (слов).\n",
    "    - labels (list of int): Список лейблов, соответствующих этим токенам.\n",
    "    - tokenizer (PreTrainedTokenizer): Токенизатор из библиотеки transformers для токенизации текста.\n",
    "\n",
    "    Возвращает:\n",
    "    - new_tokens (list of str): Новый список токенов, полученных после токенизации.\n",
    "    - new_ids (list of int): Список идентификаторов токенов после токенизации.\n",
    "    - new_labels (list of int): Новый список лейблов для токенов после преобразования.\n",
    "    - att_mask (list of int): Маска внимания для токенов.\n",
    "\n",
    "    Шаги выполнения:\n",
    "    1. Объединяем исходные токены в одну строку.\n",
    "    2. Токенизируем полученную строку с использованием токенизатора.\n",
    "    3. Инициализируем новый список лейблов.\n",
    "    4. Проходим по токенизированным данным и соотносим их с исходными токенами и их лейблами.\n",
    "    5. Игнорируем специальные токены [CLS] и [SEP], добавляя для них значение -100 в список лейблов.\n",
    "    6. Если позиции токенов совпадают с исходными, сохраняем текущий лейбл.\n",
    "    7. Если токены выходят за пределы текущих позиций, переходим к следующему токену и его лейблу.\n",
    "    8. Возвращаем новый список токенов, идентификаторы токенов, новые лейблы и маску внимания.\n",
    "    \"\"\"\n",
    "    \n",
    "    # Объединяем токены в одно предложение\n",
    "    text = \" \".join(tokens)\n",
    "    max_length = 128\n",
    "    \n",
    "    # Токенизируем текст и получаем смещения токенов\n",
    "    tokenized_inputs = tokenizer(text, padding='max_length', max_length=max_length, return_offsets_mapping=True, is_split_into_words=False)\n",
    "    new_tokens = tokenized_inputs.tokens()\n",
    "    new_ids = tokenized_inputs['input_ids']\n",
    "    att_mask = tokenized_inputs['attention_mask']\n",
    "    offsets = tokenized_inputs['offset_mapping']\n",
    "\n",
    "    # Инициализируем новые лейблы\n",
    "    new_labels = []\n",
    "\n",
    "    # Инициализируем текущие индексы, лейблы и токены\n",
    "    current_token_idx = 0\n",
    "    current_label = labels[current_token_idx]\n",
    "    current_token = tokens[current_token_idx]\n",
    "    current_token_start = 0\n",
    "    current_token_end = len(current_token)\n",
    "\n",
    "    for i, (token, offset) in enumerate(zip(new_tokens, offsets)):\n",
    "        # Игнорируем специальные токены [CLS] и [SEP]\n",
    "        if token in tokenizer.all_special_tokens:\n",
    "            new_labels.append(-100)\n",
    "            continue\n",
    "\n",
    "        # Если токен в пределах текущего исходного токена, добавляем текущий лейбл\n",
    "        if offset[0] >= current_token_start and offset[1] <= current_token_end:\n",
    "            new_labels.append(current_label)\n",
    "        else:\n",
    "            # Переходим к следующему токену и обновляем текущий лейбл и позиции\n",
    "            current_token_idx += 1\n",
    "            if current_token_idx < len(tokens):\n",
    "                current_label = labels[current_token_idx]\n",
    "                current_token = tokens[current_token_idx]\n",
    "                current_token_start = text.index(current_token, current_token_end)\n",
    "                current_token_end = current_token_start + len(current_token)\n",
    "            new_labels.append(current_label)\n",
    "\n",
    "    return new_tokens, new_ids, new_labels, att_mask\n"
   ]
  },
  {
   "cell_type": "code",
   "execution_count": 6,
   "id": "4ab4a7cb",
   "metadata": {},
   "outputs": [],
   "source": [
    "def construct_dataset(data_dist, data_para):\n",
    "    \"\"\"\n",
    "    Функция для получения датасета с использованием триплетов (anchor-positive-negative).\n",
    "\n",
    "    Принимает два списка: \n",
    "    - data_dist: список с отрицательными образцами.\n",
    "    - data_para: список с якорными и позитивными образцами.\n",
    "\n",
    "    Возвращает список триплетов (anchor, positive, negative), причем:\n",
    "    - anchor и positive берутся из data_para.\n",
    "    - negative берется из data_dist.\n",
    "    \n",
    "    Если data_dist пуст, то negative берется из временного списка temp.\n",
    "\n",
    "    Аргументы:\n",
    "    - data_dist (list of lists): Список, содержащий списки отрицательных образцов.\n",
    "    - data_para (list of lists): Список, содержащий списки якорных и позитивных образцов.\n",
    "\n",
    "    Возвращает:\n",
    "    - list: Новый датасет, состоящий из триплетов (anchor, positive, negative).\n",
    "    \"\"\"\n",
    "    my_new_dataset = []\n",
    "    temp = []\n",
    "\n",
    "    for dist, para in zip(data_dist, data_para):\n",
    "        if len(dist) == 0 and len(temp) == 0:\n",
    "            continue\n",
    "        elif len(dist) == 0 and len(temp) != 0:\n",
    "            my_new_dataset.append([para[0], para[1], temp.pop()])\n",
    "            continue\n",
    "\n",
    "        my_new_dataset.append([para[0], para[1], dist[0]])\n",
    "\n",
    "        if len(para) > 2:\n",
    "            temp.append(para[2])\n",
    "        elif len(dist) > 1:\n",
    "            for item in dist[1:]:\n",
    "                temp.append(item)\n",
    "    \n",
    "    return my_new_dataset"
   ]
  },
  {
   "cell_type": "code",
   "execution_count": 7,
   "id": "33fb3c86",
   "metadata": {},
   "outputs": [],
   "source": [
    "def onehot_with_ignore_label(labels, num_class, ignore_label):\n",
    "    \"\"\"\n",
    "    Функция для one-hot кодирования с игнорированием заданного класса.\n",
    "\n",
    "    Аргументы:\n",
    "    labels (Tensor): тензор меток размера (N, M)\n",
    "    num_class (int): количество классов\n",
    "    ignore_label (int): метка класса, которую нужно игнорировать\n",
    "\n",
    "    Возвращает:\n",
    "    Tensor: one-hot кодированный тензор размера (N, M, C)\n",
    "    \"\"\"\n",
    "    # Создаем копию меток и заменяем игнорируемые метки на числовое значение одного из классов\n",
    "    dummy_label = num_class\n",
    "    modified_labels = labels.clone()\n",
    "    modified_labels[labels == ignore_label] = dummy_label\n",
    "\n",
    "    # Выполняем one-hot кодирование с дополнительным dummy классом\n",
    "    one_hot_labels = torch.nn.functional.one_hot(modified_labels, num_classes=num_class + 1)\n",
    "\n",
    "    # Удаляем dummy класс из кодировки\n",
    "    one_hot_labels = one_hot_labels[:, :, :-1]\n",
    "\n",
    "    return one_hot_labels"
   ]
  },
  {
   "cell_type": "code",
   "execution_count": 12,
   "id": "3909dfc6",
   "metadata": {},
   "outputs": [],
   "source": [
    "def prep_ner(ner_data_list):\n",
    "    \"\"\"\n",
    "    Преобразование списка троек в четыре отдельных списка.\n",
    "    \n",
    "    Аргументы:\n",
    "    - ner_data_list (list of tuples): Список троек. Каждая тройка должна содержать:\n",
    "        - tokens (list of str): Список токенов.\n",
    "        - input_ids (list of int): Список ID токенов.\n",
    "        - labels (list of int): Список меток для каждого токена.\n",
    "        - attention_mask (list of int): Список масок внимания для каждого токена.\n",
    "        \n",
    "    Возвращает:\n",
    "    - tokens_data (list of list of str): Список списков токенов.\n",
    "    - input_ids_data (list of list of int): Список списков ID токенов.\n",
    "    - labels_data (list of list of int): Список списков меток для каждого токена.\n",
    "    - attention_data (list of list of int): Список списков масок внимания для каждого токена.\n",
    "    \"\"\"\n",
    "    tokens_data = []\n",
    "    input_ids_data = []\n",
    "    labels_data = []\n",
    "    attention_data = []\n",
    "    \n",
    "    for item in ner_data_list:\n",
    "        tokens_data.append(item[0])\n",
    "        input_ids_data.append(item[1])\n",
    "        labels_data.append(item[2])\n",
    "        attention_data.append(item[3])\n",
    "        \n",
    "    return tokens_data, input_ids_data, labels_data, attention_data"
   ]
  },
  {
   "cell_type": "code",
   "execution_count": 50,
   "id": "a2de3bbb",
   "metadata": {},
   "outputs": [],
   "source": [
    "def set_seed(seed):\n",
    "    \"\"\"\n",
    "    Фиксация случайного seed для всех используемых библиотек.\n",
    "    \n",
    "    Аргумент:\n",
    "    - seed (int): Значение seed для фиксации.\n",
    "    \"\"\"\n",
    "    random.seed(seed)\n",
    "    np.random.seed(seed)\n",
    "    torch.manual_seed(seed)\n",
    "    torch.cuda.manual_seed(seed)\n",
    "    torch.cuda.manual_seed_all(seed)  \n",
    "\n",
    "    # Обеспечение повторяемости результатов на GPU (если на это дело не влияют особенности алгоритма)\n",
    "    torch.backends.cudnn.deterministic = True\n",
    "    torch.backends.cudnn.benchmark = False\n"
   ]
  },
  {
   "cell_type": "code",
   "execution_count": 53,
   "id": "65c9c5cc",
   "metadata": {},
   "outputs": [],
   "source": [
    "# Фиксиру seed для дальнейшего обучения\n",
    "set_seed(42)"
   ]
  },
  {
   "cell_type": "code",
   "execution_count": 54,
   "id": "ecb03e9e",
   "metadata": {},
   "outputs": [],
   "source": [
    "# Слабая но, относительно лёгкая модель, на моём железе потянет\n",
    "model = CustomModel(\"d0rj/e5-small-en-ru\", num_entities = 7)"
   ]
  },
  {
   "cell_type": "code",
   "execution_count": 10,
   "id": "669406ea",
   "metadata": {},
   "outputs": [],
   "source": [
    "# Подгружаю датасеты с huggingface\n",
    "similar = datasets.load_dataset(\"inkoziev/paraphrases\")\\\n",
    "data_ner = datasets.load_dataset(\"wikiann\", 'ru')"
   ]
  },
  {
   "cell_type": "code",
   "execution_count": 46,
   "id": "64f6df44",
   "metadata": {
    "scrolled": false
   },
   "outputs": [
    {
     "name": "stderr",
     "output_type": "stream",
     "text": [
      "100%|██████████| 3000/3000 [06:59<00:00,  7.15it/s]\n"
     ]
    }
   ],
   "source": [
    "# Подготавливаю данные для обучения на NER\n",
    "ner_data_list = []\n",
    "for i in trange(3000):\n",
    "    ner_data_list.append(translate_labels(data_ner['train']['tokens'][i],\n",
    "                            data_ner['train']['ner_tags'][i],\n",
    "                            model.tokenizer))  "
   ]
  },
  {
   "cell_type": "code",
   "execution_count": 90,
   "id": "d1baa650",
   "metadata": {},
   "outputs": [],
   "source": [
    "# Сохраняю в пикл\n",
    "with open('tuples.pkl', 'wb') as f:\n",
    "    pickle.dump(ner_data_list, f)"
   ]
  },
  {
   "cell_type": "code",
   "execution_count": 9,
   "id": "c9471c34",
   "metadata": {},
   "outputs": [],
   "source": [
    "# Беру с пикла\n",
    "with open('tuples.pkl', 'rb') as f:\n",
    "    loaded_data = pickle.load(f)"
   ]
  },
  {
   "cell_type": "code",
   "execution_count": 61,
   "id": "fbf4fc50",
   "metadata": {},
   "outputs": [],
   "source": [
    "# Беру из памяти\n",
    "tokens_data,input_ids_data, labels_data,attention_data = prep_ner(ner_data_list)"
   ]
  },
  {
   "cell_type": "code",
   "execution_count": 15,
   "id": "ab7a179f",
   "metadata": {},
   "outputs": [],
   "source": [
    "# Беру из пикла (то же самое что и из памяти)\n",
    "tokens_data,input_ids_data, labels_data,attention_data = prep_ner(loaded_data)"
   ]
  },
  {
   "cell_type": "code",
   "execution_count": 17,
   "id": "976226a5",
   "metadata": {},
   "outputs": [],
   "source": [
    "# Делаю промежуточное звено, между датасетом и данными\n",
    "my_new_dataset = np.array(construct_dataset(similar['train']['distractors'],similar['train']['paraphrases']))"
   ]
  },
  {
   "cell_type": "code",
   "execution_count": 18,
   "id": "9bc06b38",
   "metadata": {},
   "outputs": [],
   "source": [
    "# Датасет для обучения на задачу similarity\n",
    "train_dataset = SimilarityDataset(my_new_dataset[:2500,0],\n",
    "                        my_new_dataset[:2500,1],\n",
    "                        my_new_dataset[:2500,2])"
   ]
  },
  {
   "cell_type": "markdown",
   "id": "a22d927e",
   "metadata": {},
   "source": [
    "весь код с данными выше нужен, чтобы батчи формировались следующим образом\n",
    "есть кортежы по n элементов, где i элементу из кортежа acnhors соответствует i элементы из кортежей\n",
    "positives и negatives таким образом, они образуют тройки anchors-positives-negative"
   ]
  },
  {
   "cell_type": "code",
   "execution_count": 19,
   "id": "8dd9e285",
   "metadata": {},
   "outputs": [],
   "source": [
    "# Датасет для тестирования задачи similarity\n",
    "test_dataset = SimilarityDataset(my_new_dataset[2500::,0],\n",
    "                       my_new_dataset[2500::,1],\n",
    "                       my_new_dataset[2500::,2])"
   ]
  },
  {
   "cell_type": "markdown",
   "id": "26060212",
   "metadata": {},
   "source": [
    "Такой размер обучающей выборки, аргументирован тем, что когдая это пишу, до конца 22 мая осталось ~30 минут\n",
    "К моему величайшему сожалению, местами мне не хватило по человечески реализовать то, что я задумал, к примеру\n",
    "подачу данных в модель через DataLoader. В ходе работы я столкнулся с ошибкой, которую не смог преодолеть, а т.к\n",
    "времени было мало, решил, что надо уже показать хоть что-то :)"
   ]
  },
  {
   "cell_type": "code",
   "execution_count": 20,
   "id": "cd5e3429",
   "metadata": {},
   "outputs": [],
   "source": [
    "# Датасет для обучения на NER\n",
    "dataset_ner_train = NerDataset(input_ids_data[:2500],attention_data[:2500], labels_data[:2500])"
   ]
  },
  {
   "cell_type": "code",
   "execution_count": 21,
   "id": "ffe5ed86",
   "metadata": {},
   "outputs": [],
   "source": [
    "# Датасет для тестирования NER\n",
    "dataset_ner_test = NerDataset(input_ids_data[2500:],\n",
    "                               attention_data[2500:],\n",
    "                               labels_data[2500:])"
   ]
  },
  {
   "cell_type": "code",
   "execution_count": 22,
   "id": "ea8517bb",
   "metadata": {},
   "outputs": [],
   "source": [
    "# Объявляю девайс\n",
    "device = torch.device('cuda:0' if torch.cuda.is_available() else 'cpu')"
   ]
  },
  {
   "cell_type": "code",
   "execution_count": 23,
   "id": "c76e1da5",
   "metadata": {},
   "outputs": [],
   "source": [
    "# Глобальные переменные\n",
    "atch_size = 16\n",
    "train_len = 2500\n",
    "test_len = 500"
   ]
  },
  {
   "cell_type": "code",
   "execution_count": 24,
   "id": "28ce7239",
   "metadata": {},
   "outputs": [],
   "source": [
    "# Объявляю датафреймы\n",
    "dataloader_train_ner = DataLoader(dataset_ner_train, batch_size=batch_size,shuffle=True)\n",
    "dataloader_train_s = DataLoader(train_dataset,batch_size=batch_size,shuffle=True)\n",
    "dataloader_test_ner = DataLoader(dataset_ner_test,batch_size=batch_size,shuffle=True)\n",
    "dataloader_test_s = DataLoader(test_dataset,batch_size=batch_size,shuffle=True)"
   ]
  },
  {
   "cell_type": "code",
   "execution_count": 55,
   "id": "4e5a92c3",
   "metadata": {},
   "outputs": [
    {
     "data": {
      "application/vnd.jupyter.widget-view+json": {
       "model_id": "ebc5f95e498c4cee836ac4324434abb8",
       "version_major": 2,
       "version_minor": 0
      },
      "text/plain": [
       "  0%|          | 0/3 [00:00<?, ?it/s]"
      ]
     },
     "metadata": {},
     "output_type": "display_data"
    },
    {
     "data": {
      "application/vnd.jupyter.widget-view+json": {
       "model_id": "7cbfdf27a52c42688c0702db944fc160",
       "version_major": 2,
       "version_minor": 0
      },
      "text/plain": [
       "Training Processing:   0%|          | 0/156.25 [00:00<?, ?it/s]"
      ]
     },
     "metadata": {},
     "output_type": "display_data"
    },
    {
     "name": "stderr",
     "output_type": "stream",
     "text": [
      "Asking to truncate to max_length but no maximum length is provided and the model has no predefined maximum length. Default to no truncation.\n"
     ]
    },
    {
     "data": {
      "application/vnd.jupyter.widget-view+json": {
       "model_id": "1d4908e6ff0f408b81606ce5694d7834",
       "version_major": 2,
       "version_minor": 0
      },
      "text/plain": [
       "Evaluation Processing:   0%|          | 0/31.25 [00:00<?, ?it/s]"
      ]
     },
     "metadata": {},
     "output_type": "display_data"
    },
    {
     "name": "stdout",
     "output_type": "stream",
     "text": [
      "Epoch 1/3\n",
      "Train triplet loss: 0.32411726568914523\n",
      "Train cross-entropy loss: 0.6653361222736395\n",
      "Validation triplet loss: 0.31070799520239234\n",
      "Validation cross-entropy loss: 0.6564768212847412\n",
      "Validation F1 score: 0.10370464719538687\n"
     ]
    },
    {
     "data": {
      "application/vnd.jupyter.widget-view+json": {
       "model_id": "c28a621ee00441ba857dfe1e2fa5f86e",
       "version_major": 2,
       "version_minor": 0
      },
      "text/plain": [
       "Training Processing:   0%|          | 0/156.25 [00:00<?, ?it/s]"
      ]
     },
     "metadata": {},
     "output_type": "display_data"
    },
    {
     "data": {
      "application/vnd.jupyter.widget-view+json": {
       "model_id": "d02a4932810d4b1a80845171a8cc11db",
       "version_major": 2,
       "version_minor": 0
      },
      "text/plain": [
       "Evaluation Processing:   0%|          | 0/31.25 [00:00<?, ?it/s]"
      ]
     },
     "metadata": {},
     "output_type": "display_data"
    },
    {
     "name": "stdout",
     "output_type": "stream",
     "text": [
      "Epoch 2/3\n",
      "Train triplet loss: 0.19714573459925167\n",
      "Train cross-entropy loss: 0.6350270405791367\n",
      "Validation triplet loss: 0.3214247156865895\n",
      "Validation cross-entropy loss: 0.6009730942314491\n",
      "Validation F1 score: 0.08893142645048818\n"
     ]
    },
    {
     "data": {
      "application/vnd.jupyter.widget-view+json": {
       "model_id": "2b049133f5ed4af7b70636aeb6fbc768",
       "version_major": 2,
       "version_minor": 0
      },
      "text/plain": [
       "Training Processing:   0%|          | 0/156.25 [00:00<?, ?it/s]"
      ]
     },
     "metadata": {},
     "output_type": "display_data"
    },
    {
     "data": {
      "application/vnd.jupyter.widget-view+json": {
       "model_id": "74fa1700df93465c87f683226085c13a",
       "version_major": 2,
       "version_minor": 0
      },
      "text/plain": [
       "Evaluation Processing:   0%|          | 0/31.25 [00:00<?, ?it/s]"
      ]
     },
     "metadata": {},
     "output_type": "display_data"
    },
    {
     "name": "stdout",
     "output_type": "stream",
     "text": [
      "Epoch 3/3\n",
      "Train triplet loss: 0.1570461200206143\n",
      "Train cross-entropy loss: 0.5906964374148542\n",
      "Validation triplet loss: 0.26566224824637175\n",
      "Validation cross-entropy loss: 0.5725203508045524\n",
      "Validation F1 score: 0.1303076331179838\n"
     ]
    },
    {
     "data": {
      "image/png": "[encoded data removed]",
      "text/plain": [
       "<Figure size 1200x800 with 2 Axes>"
      ]
     },
     "metadata": {},
     "output_type": "display_data"
    },
    {
     "data": {
      "image/png": "[encoded data removed]",
      "text/plain": [
       "<Figure size 600x400 with 1 Axes>"
      ]
     },
     "metadata": {},
     "output_type": "display_data"
    }
   ],
   "source": [
    "# Основные настройки\n",
    "optimizer = AdamW(model.model.parameters(), lr=3e-5)\n",
    "triplet_loss = nn.TripletMarginWithDistanceLoss(distance_function=lambda x, y: 1.0 - F.cosine_similarity(x, y))\n",
    "cross_entropy_loss = nn.CrossEntropyLoss()\n",
    "\n",
    "train_triplet_losses = []\n",
    "train_cross_losses = []\n",
    "val_triplet_losses = []\n",
    "val_cross_losses = []\n",
    "f1_scores = []\n",
    "\n",
    "for i in tqdm(range(3), total=3):\n",
    "    \n",
    "    # Обучение\n",
    "    model.train()\n",
    "    total_triplet_loss = 0\n",
    "    total_cross_loss = 0\n",
    "    total_batches = 0\n",
    "    \n",
    "    for ner_batch, similarity_batch in tqdm(zip(dataloader_train_ner, dataloader_train_s), total=train_len/batch_size, desc=\"Training Processing\"):\n",
    "        anchors, positives, negatives = similarity_batch\n",
    "        input_ids_data, attention_data, labels_data = ner_batch\n",
    "        \n",
    "        # Перенос данных на устройство\n",
    "        ten_ids = torch.stack(input_ids_data).to(device)\n",
    "        ten_att = torch.stack(attention_data).to(device)\n",
    "        data = {\"input_ids\": ten_ids, \"attention_mask\": ten_att}\n",
    "        \n",
    "        # Прямой проход через модель\n",
    "        anchors = model.forward(anchors, mean_pooling=True, tokenized=False)\n",
    "        positives = model.forward(positives, mean_pooling=True, tokenized=False)\n",
    "        negatives = model.forward(negatives, mean_pooling=True, tokenized=False)\n",
    "        \n",
    "        # Вычисление тройственного лосса\n",
    "        loss = triplet_loss(anchors, positives, negatives)\n",
    "        \n",
    "        # Обработка данных для NER задачи\n",
    "        ners = torch.stack(labels_data).to(device)\n",
    "        pred_tags = model.ner_classifier(model.forward(data, mean_pooling=False, tokenized=True))\n",
    "        labels = onehot_with_ignore_label(ners.to(torch.int64), 7, -100).to(torch.float).to(device)\n",
    "        \n",
    "        # Вычисление кросс-энтропийного лосса\n",
    "        cross_loss = cross_entropy_loss(pred_tags, labels)\n",
    "        \n",
    "        # Обратное распространение ошибки и оптимизация\n",
    "        optimizer.zero_grad()\n",
    "        loss.backward()\n",
    "        cross_loss.backward()\n",
    "        optimizer.step()\n",
    "        \n",
    "        total_triplet_loss += loss.item()\n",
    "        total_cross_loss += cross_loss.item()\n",
    "        total_batches += 1\n",
    "\n",
    "    train_triplet_losses.append(total_triplet_loss / total_batches)\n",
    "    train_cross_losses.append(total_cross_loss / total_batches)\n",
    "    \n",
    "    # Валидация\n",
    "    model.model.eval()\n",
    "    total_triplet_loss_eval = 0\n",
    "    total_cross_loss_eval = 0\n",
    "    total_batches_eval = 0\n",
    "    all_preds = []\n",
    "    all_labels = []\n",
    "\n",
    "    for ner_batch, similarity_batch in tqdm(zip(dataloader_test_ner, dataloader_test_s), total=test_len/batch_size, desc=\"Evaluation Processing\"):\n",
    "        with torch.no_grad():\n",
    "            anchors, positives, negatives = similarity_batch\n",
    "            input_ids_data, attention_data, labels_data = ner_batch\n",
    "            \n",
    "            # Перенос данных на устройство\n",
    "            ten_ids = torch.stack(input_ids_data).to(device)\n",
    "            ten_att = torch.stack(attention_data).to(device)\n",
    "            data = {\"input_ids\": ten_ids, \"attention_mask\": ten_att}\n",
    "            \n",
    "            # Прямой проход через модель\n",
    "            anchors = model.forward(anchors, mean_pooling=True, tokenized=False)\n",
    "            positives = model.forward(positives, mean_pooling=True, tokenized=False)\n",
    "            negatives = model.forward(negatives, mean_pooling=True, tokenized=False)\n",
    "            \n",
    "            # Вычисление тройственного лосса\n",
    "            loss_val = triplet_loss(anchors, positives, negatives)\n",
    "            \n",
    "            # Обработка данных для NER задачи\n",
    "            ners = torch.stack(labels_data).to(device)\n",
    "            pred_eval = model.ner_classifier(model.forward(data, mean_pooling=False, tokenized=True))\n",
    "            labels_eval = onehot_with_ignore_label(ners.to(torch.int64), 7, -100).to(torch.float).to(device)\n",
    "            \n",
    "            # Вычисление кросс-энтропийного лосса\n",
    "            cross_loss_val = cross_entropy_loss(pred_eval, labels_eval)\n",
    "            \n",
    "            total_triplet_loss_eval += loss_val.item()\n",
    "            total_cross_loss_eval += cross_loss_val.item()\n",
    "            total_batches_eval += 1\n",
    "            \n",
    "            preds = torch.argmax(pred_eval, dim=1).cpu().numpy().flatten()\n",
    "            labels = torch.argmax(labels_eval, dim=1).cpu().numpy().flatten()\n",
    "            \n",
    "            all_preds.extend(preds)\n",
    "            all_labels.extend(labels)\n",
    "\n",
    "    val_triplet_losses.append(total_triplet_loss_eval / total_batches_eval)\n",
    "    val_cross_losses.append(total_cross_loss_eval / total_batches_eval)\n",
    "    f1 = f1_score(all_labels, all_preds, average='macro')\n",
    "    f1_scores.append(f1)\n",
    "    \n",
    "    # Вывод результатов на экран\n",
    "    print(f\"Epoch {i+1}/{3}\")\n",
    "    print(f\"Train triplet loss: {train_triplet_losses[-1]}\")\n",
    "    print(f\"Train cross-entropy loss: {train_cross_losses[-1]}\")\n",
    "    print(f\"Validation triplet loss: {val_triplet_losses[-1]}\")\n",
    "    print(f\"Validation cross-entropy loss: {val_cross_losses[-1]}\")\n",
    "    print(f\"Validation F1 score: {f1}\")\n",
    "\n",
    "# Построение графиков\n",
    "plt.figure(figsize=(12, 8))\n",
    "\n",
    "plt.subplot(2, 1, 1)\n",
    "plt.plot(train_triplet_losses, label='Train Triplet Loss')\n",
    "plt.plot(val_triplet_losses, label='Validation Triplet Loss')\n",
    "plt.legend()\n",
    "plt.xlabel('Epoch')\n",
    "plt.ylabel('Loss')\n",
    "plt.title('Triplet Loss')\n",
    "\n",
    "plt.subplot(2, 1, 2)\n",
    "plt.plot(train_cross_losses, label='Train Cross-Entropy Loss')\n",
    "plt.plot(val_cross_losses, label='Validation Cross-Entropy Loss')\n",
    "plt.legend()\n",
    "plt.xlabel('Epoch')\n",
    "plt.ylabel('Loss')\n",
    "plt.title('Cross-Entropy Loss')\n",
    "\n",
    "plt.tight_layout()\n",
    "plt.show()\n",
    "\n",
    "# График F1-Score\n",
    "plt.figure(figsize=(6, 4))\n",
    "plt.plot(f1_scores, label='Validation F1-Score')\n",
    "plt.legend()\n",
    "plt.xlabel('Epoch')\n",
    "plt.ylabel('F1-Score')\n",
    "plt.title('F1-Score Over Epochs')\n",
    "plt.show()"
   ]
  },
  {
   "cell_type": "markdown",
   "id": "e3499b1b",
   "metadata": {},
   "source": [
    "В заключении могу сказать, что данная работа вызвала у меня много проблем, а конечный результат не очень обрадовал.\n",
    "Начну с обучающей выборки для NER: я искал много разных датасетов, но подходящий на русском был только этот. Однако, позже я обнаружил, что он требует дополнительной обработки, а именно, т.к я используею bert-based модель, а она токенизирует слова по кускам, то соответственно нужно переделывать разметку датасета почти с 0. Т.е поставить каждому токену в соответствие его класс.\n",
    "Допускаю, что итоговый скор связан с тем, что данные оказались слишком плохими для такой задачи.\n",
    "Если говорить о задаче Similarity, то там наблюдается снижение лосса, что говорит о том, что модель чему-то начинает учиться.\n",
    "\n",
    "Что можно было сделать лучше:\n",
    "1. Лучше сделать класс модели(вынести в отдельный модуль, разбить на более мелкией части)\n",
    "2. Перебрать больше чем 2 модели для обучения(я брал DeepPavlov/rubert-uncased он был ещё хуже)\n",
    "3. Выбрать лучше датасет, а не тратить время на тот, который я выбрал."
   ]
  }
 ],
 "metadata": {
  "kernelspec": {
   "display_name": "Python 3 (ipykernel)",
   "language": "python",
   "name": "python3"
  },
  "language_info": {
   "codemirror_mode": {
    "name": "ipython",
    "version": 3
   },
   "file_extension": ".py",
   "mimetype": "text/x-python",
   "name": "python",
   "nbconvert_exporter": "python",
   "pygments_lexer": "ipython3",
   "version": "3.11.7"
  }
 },
 "nbformat": 4,
 "nbformat_minor": 5
}
