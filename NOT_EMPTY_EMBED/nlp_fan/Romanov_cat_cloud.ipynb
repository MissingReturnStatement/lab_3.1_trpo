{
 "cells": [
  {
   "cell_type": "code",
   "execution_count": null,
   "id": "23d03e2c",
   "metadata": {},
   "outputs": [],
   "source": [
    "import pandas as pd\n",
    "import numpy as np\n",
    "from datetime import datetime\n",
    "from scipy.interpolate import Akima1DInterpolator\n",
    "#import matplotlib.pyplot as plt\n",
    "#from sklearn.ensemble import RandomForestRegressor\n",
    "from catboost import CatBoostRegressor\n",
    "#from sklearn.preprocessing import MinMaxScaler\n",
    "#from sklearn.decomposition import PCA\n",
    "#from sklearn.model_selection import train_test_split"
   ]
  },
  {
   "cell_type": "code",
   "execution_count": null,
   "id": "4e0cc609",
   "metadata": {},
   "outputs": [],
   "source": [
    "pressure = pd.read_csv('pressure.csv')\n",
    "wind = pd.read_csv('wind_speed.csv')\n",
    "temperature = pd.read_csv('temperature.csv')\n",
    "abs_humidity = pd.read_csv('abs_humidity.csv')\n",
    "rel_humidity = pd.read_csv('rel_humidity.csv')\n",
    "#altitudes = pd.read_csv('altitudes.csv')\n",
    "train = pd.read_csv('train.csv')\n",
    "test = pd.read_csv('test.csv')"
   ]
  },
  {
   "cell_type": "code",
   "execution_count": null,
   "id": "f16150ad",
   "metadata": {},
   "outputs": [],
   "source": [
    "df = pd.concat([wind[wind.columns],\n",
    "                pressure[pressure.columns[1:]],\n",
    "                abs_humidity[abs_humidity.columns[1:]],\n",
    "                rel_humidity[abs_humidity.columns[1:]],\n",
    "                temperature[temperature.columns[17:]]],\n",
    "                      axis = 1)"
   ]
  },
  {
   "cell_type": "code",
   "execution_count": null,
   "id": "7db48f47",
   "metadata": {},
   "outputs": [],
   "source": [
    "df2 = df.set_axis(['feature ' + str(i) for i in range(len(df.columns))], axis=1) "
   ]
  },
  {
   "cell_type": "code",
   "execution_count": null,
   "id": "5ea23353",
   "metadata": {},
   "outputs": [],
   "source": [
    "temperature[\"t\"] = temperature[\"date\"].apply(lambda x: datetime.fromisoformat(x).timestamp())\n",
    "train[\"t\"] = train[\"date\"].apply(lambda x: datetime.fromisoformat(x).timestamp())\n",
    "test[\"t\"] = test[\"date\"].apply(lambda x: datetime.fromisoformat(x).timestamp())"
   ]
  },
  {
   "cell_type": "code",
   "execution_count": null,
   "id": "e5dd0dbc",
   "metadata": {},
   "outputs": [],
   "source": [
    "inter_list = []"
   ]
  },
  {
   "cell_type": "code",
   "execution_count": null,
   "id": "13d40fa2",
   "metadata": {},
   "outputs": [],
   "source": [
    "t = temperature['t']"
   ]
  },
  {
   "cell_type": "code",
   "execution_count": null,
   "id": "28b589f8",
   "metadata": {},
   "outputs": [],
   "source": [
    "df2['feature 0'] = df2['feature 0'].apply(lambda x: datetime.fromisoformat(x).timestamp())"
   ]
  },
  {
   "cell_type": "code",
   "execution_count": null,
   "id": "f3af3f00",
   "metadata": {},
   "outputs": [],
   "source": [
    "df2"
   ]
  },
  {
   "cell_type": "code",
   "execution_count": null,
   "id": "0ba27e61",
   "metadata": {},
   "outputs": [],
   "source": [
    "for item in df2.columns:\n",
    "    inter_list.append(Akima1DInterpolator(t, df2[item]))"
   ]
  },
  {
   "cell_type": "code",
   "execution_count": null,
   "id": "77b8ba7a",
   "metadata": {},
   "outputs": [],
   "source": [
    "len(inter_list)"
   ]
  },
  {
   "cell_type": "code",
   "execution_count": null,
   "id": "941eb76d",
   "metadata": {},
   "outputs": [],
   "source": [
    "df2.rename(columns = {'feature 0':'date'},inplace = True)"
   ]
  },
  {
   "cell_type": "code",
   "execution_count": null,
   "id": "87d12479",
   "metadata": {},
   "outputs": [],
   "source": [
    "for i in range(len(inter_list)):\n",
    "    train['feature ' + str(i)] = inter_list[i](train['t'])"
   ]
  },
  {
   "cell_type": "code",
   "execution_count": null,
   "id": "8763e7da",
   "metadata": {},
   "outputs": [],
   "source": [
    "train.drop(columns = ['date','feature 0','id'],inplace = True)"
   ]
  },
  {
   "cell_type": "code",
   "execution_count": null,
   "id": "8f238c8e",
   "metadata": {},
   "outputs": [],
   "source": [
    "for i in range(len(inter_list)):\n",
    "    test['feature ' + str(i)] = inter_list[i](test['t'])"
   ]
  },
  {
   "cell_type": "code",
   "execution_count": null,
   "id": "3127f12b",
   "metadata": {},
   "outputs": [],
   "source": [
    "model1 = CatBoostRegressor(learning_rate = 0.02,\n",
    "                           loss_function='RMSE',\n",
    "                           task_type=\"CPU\",\n",
    "                           iterations = 15000,\n",
    "                           l2_leaf_reg = 30,\n",
    "                           random_state=42)\n",
    "#best learning rate 0.02 i = 15000 leaf = 30"
   ]
  },
  {
   "cell_type": "code",
   "execution_count": null,
   "id": "71476462",
   "metadata": {},
   "outputs": [],
   "source": [
    "model2 = CatBoostRegressor(learning_rate = 0.02,\n",
    "                           loss_function='RMSE',\n",
    "                           task_type=\"CPU\",\n",
    "                           iterations = 15000,\n",
    "                           l2_leaf_reg = 30,\n",
    "                           random_state = 42)\n",
    "#l2 = 30, i = 15000, learning_rate = 0.1"
   ]
  },
  {
   "cell_type": "code",
   "execution_count": null,
   "id": "e668d26d",
   "metadata": {},
   "outputs": [],
   "source": [
    "train"
   ]
  },
  {
   "cell_type": "code",
   "execution_count": null,
   "id": "c8530c4a",
   "metadata": {},
   "outputs": [],
   "source": [
    "model1.fit(train[train.columns[3:]],train['start'], verbose = False, plot = True)\n",
    "\n",
    "#cat_t1.fit(start_df3[start_df3.columns[:-2]],start_df3['start'],verbose = False, plot = True)"
   ]
  },
  {
   "cell_type": "code",
   "execution_count": null,
   "id": "99b5b3d5",
   "metadata": {},
   "outputs": [],
   "source": [
    "model2.fit(train[train.columns[3:]],train['end'],\n",
    "           verbose = False,\n",
    "           plot = True,\n",
    "           )"
   ]
  },
  {
   "cell_type": "code",
   "execution_count": null,
   "id": "cfd87f96",
   "metadata": {},
   "outputs": [],
   "source": [
    "test"
   ]
  },
  {
   "cell_type": "code",
   "execution_count": null,
   "id": "839b2325",
   "metadata": {},
   "outputs": [],
   "source": [
    "#test.drop(columns = ['date','feature 0'], inplace = True)"
   ]
  },
  {
   "cell_type": "code",
   "execution_count": null,
   "id": "24e1813d",
   "metadata": {},
   "outputs": [],
   "source": [
    "test['start'] = model1.predict(test[test.columns])\n",
    "test['end'] = model2.predict(test[test.columns])"
   ]
  },
  {
   "cell_type": "code",
   "execution_count": null,
   "id": "faf5e4b5",
   "metadata": {},
   "outputs": [],
   "source": [
    "test[[\"id\", \"start\", \"end\"]].to_csv(\"submission.csv\", index=False)"
   ]
  },
  {
   "cell_type": "code",
   "execution_count": null,
   "id": "5259665e",
   "metadata": {},
   "outputs": [],
   "source": []
  }
 ],
 "metadata": {
  "kernelspec": {
   "display_name": "Python 3 (ipykernel)",
   "language": "python",
   "name": "python3"
  },
  "language_info": {
   "codemirror_mode": {
    "name": "ipython",
    "version": 3
   },
   "file_extension": ".py",
   "mimetype": "text/x-python",
   "name": "python",
   "nbconvert_exporter": "python",
   "pygments_lexer": "ipython3",
   "version": "3.11.5"
  }
 },
 "nbformat": 4,
 "nbformat_minor": 5
}
